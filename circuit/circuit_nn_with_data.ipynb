{
  "nbformat": 4,
  "nbformat_minor": 0,
  "metadata": {
    "colab": {
      "name": "get_data.ipynb",
      "provenance": [],
      "collapsed_sections": []
    },
    "kernelspec": {
      "name": "python3",
      "display_name": "Python 3"
    }
  },
  "cells": [
    {
      "cell_type": "code",
      "metadata": {
        "id": "rQpW5nc_95vC"
      },
      "source": [
        "import numpy as np\r\n",
        "import matplotlib.pyplot as plt\r\n",
        "import itertools as it\r\n",
        "import copy\r\n",
        "\r\n",
        "import tensorflow as tf\r\n",
        "\r\n",
        "import numpy as np\r\n",
        "import pandas as pd\r\n",
        "import matplotlib.pyplot as plt"
      ],
      "execution_count": 19,
      "outputs": []
    },
    {
      "cell_type": "code",
      "metadata": {
        "id": "XHiy8zKNib92"
      },
      "source": [
        "from sklearn.metrics import accuracy_score\r\n",
        "from sklearn.model_selection import RepeatedKFold\r\n",
        "\r\n",
        "from keras.models import Sequential\r\n",
        "from keras.layers import Dense"
      ],
      "execution_count": 20,
      "outputs": []
    },
    {
      "cell_type": "code",
      "metadata": {
        "id": "6phbYAKPiZoJ"
      },
      "source": [
        "import logging\r\n",
        "logger = tf.get_logger()\r\n",
        "logger.setLevel(logging.ERROR)"
      ],
      "execution_count": 21,
      "outputs": []
    },
    {
      "cell_type": "code",
      "metadata": {
        "id": "an9Vo3WA9_e7"
      },
      "source": [
        "class Graph(object):\r\n",
        "    def __init__(self, m, n):\r\n",
        "        self.m = m\r\n",
        "        self.n = n\r\n",
        "        self.VerticesMatrix = np.zeros((self.m, self.n))\r\n",
        "        self.__fill_matrix()\r\n",
        "        self.edges = set()\r\n",
        "        self.DictEdges = dict()\r\n",
        "        self.DictEdgesInv = dict()\r\n",
        "        self.DictResistance = dict()\r\n",
        "        self.__get_edges()\r\n",
        "        self.n_connections = self.get_number_connections()\r\n",
        "        self.pairs_for_break = self.pairs_for_break()\r\n",
        "\r\n",
        "    def __fill_matrix(self):\r\n",
        "        k = 0\r\n",
        "        for i in range(self.m):\r\n",
        "            for j in range(self.n):\r\n",
        "                self.VerticesMatrix[i][j] = k\r\n",
        "                k += 1\r\n",
        "\r\n",
        "    def __get_edges(self):\r\n",
        "        def add_pair(pair):\r\n",
        "            pair = [int(i) for i in pair]\r\n",
        "            pair = tuple(sorted(pair))\r\n",
        "            if pair not in self.edges:\r\n",
        "                self.edges.add(pair)\r\n",
        "                self.DictEdges[len(self.DictEdges)+1] = list(pair)\r\n",
        "                self.DictEdgesInv[pair] = len(self.DictEdgesInv)+1\r\n",
        "                # self.DictResistance[len(self.DictResistance)+1] = np.random.randint(10, 50)\r\n",
        "                self.DictResistance[len(self.DictResistance)+1] = 10\r\n",
        "\r\n",
        "        for i in range(self.m):\r\n",
        "            for j in range(self.n):\r\n",
        "                if i != self.m-1: add_pair([self.VerticesMatrix[i][j], self.VerticesMatrix[i+1][j]])\r\n",
        "                if i != 0: add_pair([self.VerticesMatrix[i][j], self.VerticesMatrix[i-1][j]])\r\n",
        "                if j != 0: add_pair([self.VerticesMatrix[i][j], self.VerticesMatrix[i][j-1]])\r\n",
        "                if j != self.n-1: add_pair([self.VerticesMatrix[i][j], self.VerticesMatrix[i][j+1]])\r\n",
        "\r\n",
        "    def get_connections(self):\r\n",
        "        nums = [*self.VerticesMatrix[0, :], *self.VerticesMatrix[1:-1, -1],\r\n",
        "                *self.VerticesMatrix[-1, :], *self.VerticesMatrix[1:-1, 0]]\r\n",
        "        nums = [int(i) for i in nums]\r\n",
        "        return list(it.combinations(nums, 2))\r\n",
        "    \r\n",
        "    def get_number_connections(self):\r\n",
        "        return len(self.get_connections())\r\n",
        "\r\n",
        "    def get_incidence_matrix(self):\r\n",
        "        def get_m(matrix):\r\n",
        "            m = 0\r\n",
        "            for i in range(matrix.shape[0]):\r\n",
        "                for j in range(matrix.shape[1]):\r\n",
        "                    if not np.isnan(matrix[i][j]): m += 1\r\n",
        "            return m\r\n",
        "        \r\n",
        "        def get_vert_poz(matrix, v):\r\n",
        "            nodes = list(np.reshape(matrix, (1,-1))[0])\r\n",
        "            for node in nodes:\r\n",
        "                if np.isnan(node): nodes.remove(node)\r\n",
        "\r\n",
        "            pos = 0\r\n",
        "            for i in range(len(nodes)):\r\n",
        "                if nodes[i] == v: return i\r\n",
        "                pos += 1\r\n",
        "\r\n",
        "        IM = np.zeros((get_m(self.VerticesMatrix), len(self.edges)))\r\n",
        "        for i, item in enumerate(self.DictEdges.keys()):\r\n",
        "            i1, i2 = self.DictEdges[item]\r\n",
        "            IM[get_vert_poz(self.VerticesMatrix, i1)][i] = 1\r\n",
        "            IM[get_vert_poz(self.VerticesMatrix, i2)][i] = 1\r\n",
        "        return IM\r\n",
        "\r\n",
        "    def pairs_for_break(self):\r\n",
        "        pairs = list(self.edges)\r\n",
        "        nums = [sorted(self.VerticesMatrix[0, :]),\r\n",
        "                sorted(self.VerticesMatrix[:, -1]),\r\n",
        "                sorted(self.VerticesMatrix[-1, :]),\r\n",
        "                sorted(self.VerticesMatrix[:, 0])]\r\n",
        "        for l in nums:\r\n",
        "            for i in range(len(l)-1):\r\n",
        "                p = (l[i], l[i+1])\r\n",
        "                pairs.remove(p)\r\n",
        "        return pairs\r\n",
        "\r\n",
        "    def get_pairs_for_break(self):\r\n",
        "        def CountFrequency(lst):\r\n",
        "            freq = {i:0 for i in list(range(self.VerticesMatrix.size))}\r\n",
        "            for item in lst: \r\n",
        "                freq[item] += 1\r\n",
        "            return freq\r\n",
        "\r\n",
        "        def check_pairs(pairs):\r\n",
        "            usefull_pairs = []\r\n",
        "            for case in pairs:\r\n",
        "                Edges = [pair for pair in list(self.edges) if pair not in case]\r\n",
        "                Edges_nums = []\r\n",
        "                nums = set()\r\n",
        "                for j in Edges:\r\n",
        "                    Edges_nums += [j[0], j[1]]\r\n",
        "                freq = CountFrequency(Edges_nums)\r\n",
        "\r\n",
        "                for i in case:\r\n",
        "                    nums.add(i[0])\r\n",
        "                    nums.add(i[1])\r\n",
        "\r\n",
        "                flag = False\r\n",
        "                for k in nums:\r\n",
        "                    if freq[k] == 1:\r\n",
        "                        flag = True\r\n",
        "                        \r\n",
        "                if not flag: usefull_pairs.append(case)\r\n",
        "            return usefull_pairs\r\n",
        "\r\n",
        "        pairs = self.pairs_for_break\r\n",
        "        \r\n",
        "        # get all combinations for possible edges\r\n",
        "        pairs_combs = []\r\n",
        "        for i in range(1, len(pairs)+1):\r\n",
        "            pairs_combs += list(it.combinations(pairs, i))\r\n",
        "        return check_pairs(pairs_combs)"
      ],
      "execution_count": 15,
      "outputs": []
    },
    {
      "cell_type": "code",
      "metadata": {
        "id": "xDCNoYUKlw37"
      },
      "source": [
        "class SubGraph(Graph):\r\n",
        "    def delete_edges(self, case):\r\n",
        "        for pair in case:\r\n",
        "            self.edges.remove(pair)\r\n",
        "            pair_num = self.DictEdgesInv.pop(pair)\r\n",
        "            self.DictEdges.pop(pair_num)\r\n",
        "            self.DictResistance.pop(pair_num)\r\n",
        "        \r\n",
        "        # add NaN if node was deleted\r\n",
        "        nums = []\r\n",
        "        for pair in self.edges:\r\n",
        "            a, b = pair\r\n",
        "            if a not in nums: nums.append(a)\r\n",
        "            if b not in nums: nums.append(b)\r\n",
        "            \r\n",
        "        for i in range(self.VerticesMatrix.shape[0]):\r\n",
        "            for j in range(self.VerticesMatrix.shape[1]):\r\n",
        "                if self.VerticesMatrix[i][j] not in nums: self.VerticesMatrix[i][j] = np.NaN"
      ],
      "execution_count": 16,
      "outputs": []
    },
    {
      "cell_type": "code",
      "metadata": {
        "id": "1rvqG6deFaTN"
      },
      "source": [
        "length_m, length_n = 3, 3\r\n",
        "\r\n",
        "graph = Graph(length_m,length_n)\r\n",
        "\r\n",
        "def get_vert_poz(matrix, v):\r\n",
        "    nodes = list(np.reshape(matrix, (1,-1))[0])\r\n",
        "    for node in nodes:\r\n",
        "        if np.isnan(node): nodes.remove(node)\r\n",
        "\r\n",
        "    pos = 0\r\n",
        "    for i in range(len(nodes)):\r\n",
        "        if nodes[i] == v: return i\r\n",
        "        pos += 1\r\n",
        "\r\n",
        "def calculate_case(graph):\r\n",
        "    # (+1) for edge which represents connector\r\n",
        "    num_edges = len(graph.edges) + 1\r\n",
        "    Y = np.eye(num_edges)\r\n",
        "    res = list(graph.DictResistance.values())\r\n",
        "    for i in range(num_edges-1):\r\n",
        "        Y[i][i] = res[i]\r\n",
        "    Y[-1][-1] = 1/10\r\n",
        "    J = np.zeros((num_edges, 1))\r\n",
        "    J[-1] = 50\r\n",
        "\r\n",
        "    fi_all = []\r\n",
        "\r\n",
        "    # incidence matrix\r\n",
        "    for i in graph.get_connections():\r\n",
        "        A = graph.get_incidence_matrix()\r\n",
        "        A = np.append(A, np.zeros((A.shape[0], 1)), axis=1)\r\n",
        "        \r\n",
        "        i1 = get_vert_poz(graph.VerticesMatrix, i[0])\r\n",
        "        i2 = get_vert_poz(graph.VerticesMatrix, i[1])\r\n",
        "        A[i2, -1] = 1\r\n",
        "        A = np.delete(A, i1, axis=0)\r\n",
        "\r\n",
        "        N = A@(Y@A.T)\r\n",
        "        b = (-1)*(A@J)\r\n",
        "    \r\n",
        "        fi = np.linalg.inv(N)@b\r\n",
        "\r\n",
        "        for i in range(A.shape[0]):\r\n",
        "            if A[i, -1] == 1: fi = round(abs(fi[i][0]), 3)\r\n",
        "\r\n",
        "        fi_all.append(fi)\r\n",
        "    \r\n",
        "    return fi_all\r\n",
        "\r\n",
        "def get_data(graph):\r\n",
        "    usefull_pairs_for_break = graph.get_pairs_for_break()\r\n",
        "    n = len(graph.pairs_for_break)\r\n",
        "    labels_order = {item:i for i, item in enumerate(graph.pairs_for_break)}\r\n",
        "    \r\n",
        "    # measurements and labels\r\n",
        "    measurements = np.array([calculate_case(graph)])\r\n",
        "    labels = np.array([[0]*n])\r\n",
        "\r\n",
        "    for case in usefull_pairs_for_break:\r\n",
        "        # GET LABEL\r\n",
        "        label = [0]*n\r\n",
        "        for item in case:\r\n",
        "            label[labels_order[item]] = 1\r\n",
        "        labels = np.append(labels, [label], axis=0)\r\n",
        "\r\n",
        "        # GET MEASUREMENT\r\n",
        "        gg = SubGraph(length_m,length_n)\r\n",
        "        gg.delete_edges(case)\r\n",
        "        measurements = np.append(measurements, [calculate_case(gg)], axis=0)\r\n",
        "\r\n",
        "    return measurements, labels\r\n",
        "\r\n",
        "measurements, labels = get_data(graph)"
      ],
      "execution_count": 25,
      "outputs": []
    },
    {
      "cell_type": "code",
      "metadata": {
        "colab": {
          "base_uri": "https://localhost:8080/"
        },
        "id": "hn8KMbNpfdEc",
        "outputId": "06c4f68d-7691-448a-dd72-58c09bed59c5"
      },
      "source": [
        "print(f'measurements shape: {measurements.shape}\\n\\\r\n",
        "labels shape        {labels.shape}')"
      ],
      "execution_count": 26,
      "outputs": [
        {
          "output_type": "stream",
          "text": [
            "measurements shape: (12, 28)\n",
            "labels shape        (12, 4)\n"
          ],
          "name": "stdout"
        }
      ]
    },
    {
      "cell_type": "code",
      "metadata": {
        "id": "6HQDfL_SgHrB"
      },
      "source": [
        ""
      ],
      "execution_count": null,
      "outputs": []
    },
    {
      "cell_type": "code",
      "metadata": {
        "id": "vDdwFkAogHoE"
      },
      "source": [
        "# get the model\r\n",
        "# CHANGE NUMBER OF NEURONES !!!\r\n",
        "def get_model(n_inputs, n_outputs):\r\n",
        "    model = Sequential()\r\n",
        "    model.add(Dense(28, input_dim=n_inputs, kernel_initializer='he_uniform'))\r\n",
        "    model.add(Dense(n_inputs*4, activation='relu'))\r\n",
        "    model.add(Dense(n_inputs*8, activation='relu'))\r\n",
        "    #model.add(Dense(35, activation='relu'))\r\n",
        "    #model.add(Dense(10, activation='relu'))\r\n",
        "    model.add(Dense(n_outputs, activation='sigmoid'))\r\n",
        "    model.compile(loss='binary_crossentropy', optimizer='adam')\r\n",
        "    return model\r\n",
        "\r\n",
        "# evaluate a model using repeated k-fold cross-validation\r\n",
        "def evaluate_model(X, y):\r\n",
        "\tresults = list()\r\n",
        "\tn_inputs, n_outputs = X.shape[1], y.shape[1]\r\n",
        "\t# define evaluation procedure\r\n",
        "\tcv = RepeatedKFold(n_splits=5, n_repeats=3, random_state=1)\r\n",
        "\t# enumerate folds\r\n",
        "\tfor train_ix, test_ix in cv.split(X):\r\n",
        "\t\t# prepare data\r\n",
        "\t\tX_train, X_test = X[train_ix], X[test_ix]\r\n",
        "\t\ty_train, y_test = y[train_ix], y[test_ix]\r\n",
        "\t\t# define model\r\n",
        "\t\tmodel = get_model(n_inputs, n_outputs)\r\n",
        "\t\t# fit model\r\n",
        "\t\tmodel.fit(X_train, y_train, verbose=0, epochs=100)\r\n",
        "\t\t# make a prediction on the test set\r\n",
        "\t\tyhat = model.predict(X_test)\r\n",
        "\t\t# round probabilities to class labels\r\n",
        "\t\tyhat = yhat.round()\r\n",
        "\t\t# calculate accuracy\r\n",
        "\t\tacc = accuracy_score(y_test, yhat)\r\n",
        "\t\t# store result\r\n",
        "\t\tprint('> %.3f' % acc)\r\n",
        "\t\tresults.append(acc)\r\n",
        "\treturn results"
      ],
      "execution_count": 49,
      "outputs": []
    },
    {
      "cell_type": "code",
      "metadata": {
        "id": "CKwrZsXLgHfz",
        "colab": {
          "base_uri": "https://localhost:8080/"
        },
        "outputId": "2d9d944d-5515-4fed-ea48-b614f8e4edfc"
      },
      "source": [
        "# load dataset\r\n",
        "X, y = measurements, labels\r\n",
        "# evaluate model\r\n",
        "results = evaluate_model(X, y)\r\n",
        "# summarize performance\r\n",
        "print('Accuracy: %.3f (%.3f)' % (np.mean(results), np.std(results)))"
      ],
      "execution_count": 50,
      "outputs": [
        {
          "output_type": "stream",
          "text": [
            "> 1.000\n",
            "> 0.667\n",
            "> 1.000\n",
            "> 0.500\n",
            "> 0.500\n",
            "> 0.333\n",
            "> 0.000\n",
            "> 0.000\n",
            "> 1.000\n",
            "> 0.500\n",
            "> 0.333\n",
            "> 0.667\n",
            "> 0.500\n",
            "> 0.500\n",
            "> 1.000\n",
            "Accuracy: 0.567 (0.321)\n"
          ],
          "name": "stdout"
        }
      ]
    },
    {
      "cell_type": "code",
      "metadata": {
        "id": "RBFXmTY8gHcx"
      },
      "source": [
        ""
      ],
      "execution_count": null,
      "outputs": []
    },
    {
      "cell_type": "code",
      "metadata": {
        "id": "ysh0AdzIgHYm"
      },
      "source": [
        ""
      ],
      "execution_count": null,
      "outputs": []
    }
  ]
}