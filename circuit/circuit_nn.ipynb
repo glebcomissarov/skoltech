{
  "nbformat": 4,
  "nbformat_minor": 0,
  "metadata": {
    "colab": {
      "name": "circuit_nn.ipynb",
      "provenance": [],
      "collapsed_sections": [],
      "toc_visible": true
    },
    "kernelspec": {
      "name": "python3",
      "display_name": "Python 3"
    },
    "accelerator": "GPU"
  },
  "cells": [
    {
      "cell_type": "code",
      "metadata": {
        "id": "bhBULECfGdO3"
      },
      "source": [
        "import tensorflow as tf\r\n",
        "\r\n",
        "import numpy as np\r\n",
        "import pandas as pd\r\n",
        "import matplotlib.pyplot as plt"
      ],
      "execution_count": 11,
      "outputs": []
    },
    {
      "cell_type": "code",
      "metadata": {
        "id": "7sF1NiACRDeO"
      },
      "source": [
        "import logging\r\n",
        "logger = tf.get_logger()\r\n",
        "logger.setLevel(logging.ERROR)"
      ],
      "execution_count": 2,
      "outputs": []
    },
    {
      "cell_type": "code",
      "metadata": {
        "id": "Budaa3KHRDgr"
      },
      "source": [
        "inp = pd.read_csv('/content/drive/MyDrive/research/input.csv', sep=';', index_col=0)\r\n",
        "out = pd.read_csv('/content/drive/MyDrive/research/labels.csv', sep=';', index_col=0)"
      ],
      "execution_count": 3,
      "outputs": []
    },
    {
      "cell_type": "code",
      "metadata": {
        "colab": {
          "base_uri": "https://localhost:8080/"
        },
        "id": "vZUN6FsTRDjg",
        "outputId": "2b8a4a56-9260-44fa-bd8b-bf6710be2436"
      },
      "source": [
        "inp.shape"
      ],
      "execution_count": 8,
      "outputs": [
        {
          "output_type": "execute_result",
          "data": {
            "text/plain": [
              "(8, 39)"
            ]
          },
          "metadata": {
            "tags": []
          },
          "execution_count": 8
        }
      ]
    },
    {
      "cell_type": "code",
      "metadata": {
        "colab": {
          "base_uri": "https://localhost:8080/",
          "height": 143
        },
        "id": "GiNwvqm0RDmg",
        "outputId": "56251dc5-28b2-48d0-9723-1ad029683110"
      },
      "source": [
        "out.head(3)"
      ],
      "execution_count": 5,
      "outputs": [
        {
          "output_type": "execute_result",
          "data": {
            "text/html": [
              "<div>\n",
              "<style scoped>\n",
              "    .dataframe tbody tr th:only-of-type {\n",
              "        vertical-align: middle;\n",
              "    }\n",
              "\n",
              "    .dataframe tbody tr th {\n",
              "        vertical-align: top;\n",
              "    }\n",
              "\n",
              "    .dataframe thead th {\n",
              "        text-align: right;\n",
              "    }\n",
              "</style>\n",
              "<table border=\"1\" class=\"dataframe\">\n",
              "  <thead>\n",
              "    <tr style=\"text-align: right;\">\n",
              "      <th></th>\n",
              "      <th>pos_1</th>\n",
              "      <th>pos_2</th>\n",
              "      <th>pos_3</th>\n",
              "      <th>pos_4</th>\n",
              "      <th>pos_5</th>\n",
              "      <th>pos_6</th>\n",
              "      <th>pos_7</th>\n",
              "      <th>pos_8</th>\n",
              "      <th>pos_9</th>\n",
              "      <th>pos_10</th>\n",
              "      <th>pos_11</th>\n",
              "      <th>pos_12</th>\n",
              "      <th>pos_13</th>\n",
              "      <th>pos_14</th>\n",
              "      <th>pos_15</th>\n",
              "      <th>pos_16</th>\n",
              "      <th>pos_17</th>\n",
              "    </tr>\n",
              "  </thead>\n",
              "  <tbody>\n",
              "    <tr>\n",
              "      <th>case 1</th>\n",
              "      <td>0</td>\n",
              "      <td>0</td>\n",
              "      <td>0</td>\n",
              "      <td>0</td>\n",
              "      <td>0</td>\n",
              "      <td>0</td>\n",
              "      <td>0</td>\n",
              "      <td>0</td>\n",
              "      <td>0</td>\n",
              "      <td>0</td>\n",
              "      <td>0</td>\n",
              "      <td>0</td>\n",
              "      <td>0</td>\n",
              "      <td>0</td>\n",
              "      <td>0</td>\n",
              "      <td>0</td>\n",
              "      <td>0</td>\n",
              "    </tr>\n",
              "    <tr>\n",
              "      <th>case 2</th>\n",
              "      <td>0</td>\n",
              "      <td>0</td>\n",
              "      <td>0</td>\n",
              "      <td>0</td>\n",
              "      <td>0</td>\n",
              "      <td>1</td>\n",
              "      <td>0</td>\n",
              "      <td>0</td>\n",
              "      <td>1</td>\n",
              "      <td>0</td>\n",
              "      <td>0</td>\n",
              "      <td>0</td>\n",
              "      <td>0</td>\n",
              "      <td>0</td>\n",
              "      <td>0</td>\n",
              "      <td>0</td>\n",
              "      <td>0</td>\n",
              "    </tr>\n",
              "    <tr>\n",
              "      <th>case 3</th>\n",
              "      <td>0</td>\n",
              "      <td>0</td>\n",
              "      <td>0</td>\n",
              "      <td>0</td>\n",
              "      <td>0</td>\n",
              "      <td>0</td>\n",
              "      <td>0</td>\n",
              "      <td>1</td>\n",
              "      <td>0</td>\n",
              "      <td>0</td>\n",
              "      <td>1</td>\n",
              "      <td>1</td>\n",
              "      <td>0</td>\n",
              "      <td>0</td>\n",
              "      <td>1</td>\n",
              "      <td>0</td>\n",
              "      <td>0</td>\n",
              "    </tr>\n",
              "  </tbody>\n",
              "</table>\n",
              "</div>"
            ],
            "text/plain": [
              "        pos_1  pos_2  pos_3  pos_4  ...  pos_14  pos_15  pos_16  pos_17\n",
              "case 1      0      0      0      0  ...       0       0       0       0\n",
              "case 2      0      0      0      0  ...       0       0       0       0\n",
              "case 3      0      0      0      0  ...       0       1       0       0\n",
              "\n",
              "[3 rows x 17 columns]"
            ]
          },
          "metadata": {
            "tags": []
          },
          "execution_count": 5
        }
      ]
    },
    {
      "cell_type": "code",
      "metadata": {
        "id": "eq3nAJGKtzs5"
      },
      "source": [
        "inp = inp.to_numpy()\r\n",
        "out = out.to_numpy()\r\n",
        "\r\n",
        "# inp = tf.convert_to_tensor(inp, dtype=tf.float32)\r\n",
        "# out = tf.convert_to_tensor(out, dtype=tf.int32)"
      ],
      "execution_count": 6,
      "outputs": []
    },
    {
      "cell_type": "code",
      "metadata": {
        "id": "uo-WL4-35IuW"
      },
      "source": [
        "from sklearn.metrics import accuracy_score\r\n",
        "from sklearn.model_selection import RepeatedKFold\r\n",
        "\r\n",
        "from keras.models import Sequential\r\n",
        "from keras.layers import Dense"
      ],
      "execution_count": 20,
      "outputs": []
    },
    {
      "cell_type": "code",
      "metadata": {
        "id": "BwEZUeY6x2mV"
      },
      "source": [
        "# get the model\r\n",
        "def get_model(n_inputs, n_outputs):\r\n",
        "    model = Sequential()\r\n",
        "    model.add(Dense(39, input_dim=n_inputs, kernel_initializer='he_uniform'))\r\n",
        "    model.add(Dense(50, activation='relu'))\r\n",
        "    model.add(Dense(55, activation='relu'))\r\n",
        "    model.add(Dense(10, activation='relu'))\r\n",
        "    model.add(Dense(n_outputs, activation='sigmoid'))\r\n",
        "    model.compile(loss='binary_crossentropy', optimizer='adam')\r\n",
        "    return model\r\n",
        "\r\n",
        "# evaluate a model using repeated k-fold cross-validation\r\n",
        "def evaluate_model(X, y):\r\n",
        "\tresults = list()\r\n",
        "\tn_inputs, n_outputs = X.shape[1], y.shape[1]\r\n",
        "\t# define evaluation procedure\r\n",
        "\tcv = RepeatedKFold(n_splits=2, n_repeats=3, random_state=1)\r\n",
        "\t# enumerate folds\r\n",
        "\tfor train_ix, test_ix in cv.split(X):\r\n",
        "\t\t# prepare data\r\n",
        "\t\tX_train, X_test = X[train_ix], X[test_ix]\r\n",
        "\t\ty_train, y_test = y[train_ix], y[test_ix]\r\n",
        "\t\t# define model\r\n",
        "\t\tmodel = get_model(n_inputs, n_outputs)\r\n",
        "\t\t# fit model\r\n",
        "\t\tmodel.fit(X_train, y_train, verbose=0, epochs=100)\r\n",
        "\t\t# make a prediction on the test set\r\n",
        "\t\tyhat = model.predict(X_test)\r\n",
        "\t\t# round probabilities to class labels\r\n",
        "\t\tyhat = yhat.round()\r\n",
        "\t\t# calculate accuracy\r\n",
        "\t\tacc = accuracy_score(y_test, yhat)\r\n",
        "\t\t# store result\r\n",
        "\t\tprint('> %.3f' % acc)\r\n",
        "\t\tresults.append(acc)\r\n",
        "\treturn results"
      ],
      "execution_count": 30,
      "outputs": []
    },
    {
      "cell_type": "code",
      "metadata": {
        "colab": {
          "base_uri": "https://localhost:8080/"
        },
        "id": "y74N8Dr1x2jo",
        "outputId": "875490da-546f-4de0-d9c0-6c5c29213952"
      },
      "source": [
        "# load dataset\r\n",
        "X, y = inp, out\r\n",
        "# evaluate model\r\n",
        "results = evaluate_model(X, y)\r\n",
        "# summarize performance\r\n",
        "print('Accuracy: %.3f (%.3f)' % (np.mean(results), np.std(results)))"
      ],
      "execution_count": 31,
      "outputs": [
        {
          "output_type": "stream",
          "text": [
            "> 0.000\n",
            "> 0.000\n",
            "> 0.000\n",
            "> 0.000\n",
            "> 0.250\n",
            "> 0.000\n",
            "Accuracy: 0.042 (0.093)\n"
          ],
          "name": "stdout"
        }
      ]
    }
  ]
}